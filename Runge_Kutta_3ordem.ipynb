{
 "cells": [
  {
   "cell_type": "code",
   "execution_count": 13,
   "metadata": {},
   "outputs": [
    {
     "name": "stdout",
     "output_type": "stream",
     "text": [
      "\n",
      "ITERAÇÃO DO TEMPO 0\n",
      "k1_Ca = -1\n",
      "k1_Cb = 1\n",
      "k1_Cc = -3\n",
      "\n",
      "k2_Ca = 0.0625\n",
      "k2_Cb = -0.0625\n",
      "k2_Cc = -0.4375\n",
      "\n",
      "k3_Ca = -3.78515625\n",
      "k3_Cb = 3.78515625\n",
      "k3_Cc = -7.91015625\n",
      "\n",
      "Ca = 0.6220703125\n",
      "Cb = 0.3779296875\n",
      "Cc = -0.05501302083333326\n",
      "\n",
      "ITERAÇÃO DO TEMPO 0.5\n",
      "k1_Ca = 0.4121516545613606\n",
      "k1_Cb = -0.4121516545613606\n",
      "k1_Cc = 0.5221776962280271\n",
      "\n",
      "k2_Ca = 0.22012333205025117\n",
      "k2_Cb = -0.22012333205025117\n",
      "k2_Cc = 0.06906052560290413\n",
      "\n",
      "k3_Ca = 0.5210295828340387\n",
      "k3_Cb = -0.5210295828340387\n",
      "k3_Cc = 1.015112269522924\n",
      "\n",
      "Ca = 0.7732098596330337\n",
      "Cb = 0.22679014036696632\n",
      "Cc = 0.09611465151354737\n"
     ]
    },
    {
     "data": {
      "text/plain": [
       "[0.7732098596330337, 0.22679014036696632, 0.09611465151354737]"
      ]
     },
     "execution_count": 13,
     "metadata": {},
     "output_type": "execute_result"
    }
   ],
   "source": [
    "# uma dezena\n",
    "beta = 1\n",
    "alpha = 1\n",
    "gama = 1\n",
    "# algumas dezenas\n",
    "Ca = 1\n",
    "Cb = 0\n",
    "Cc = 1\n",
    "# algumas unidades\n",
    "Tmax = 0.5\n",
    "T = 0\n",
    "deltaT = 0.5\n",
    "\n",
    "k1 = [0, 0, 0]\n",
    "k2 = [0, 0, 0]\n",
    "k3 = [0, 0, 0]\n",
    "y = [Ca, Cb, Cc]\n",
    "\n",
    "derivada_Ca = -alpha*Ca*Cc + Cb #1funçao\n",
    "derivada_Cb = beta*Ca*Cc - Cb #2funçao\n",
    "derivada_Cc = -gama*Ca*Cc + Cb - 2*Cc #3funçao\n",
    "\n",
    "def derivada_Ca(Ca, Cb, Cc, alpha): \n",
    "    return (-alpha*Ca*Cc + Cb) \n",
    "\n",
    "def derivada_Cb(Ca, Cb, Cc, beta): \n",
    "    return (beta*Ca*Cc - Cb) \n",
    "\n",
    "def derivada_Cc(Ca, Cb, Cc, gama): \n",
    "    return (-gama*Ca*Cc + Cb - 2*Cc) \n",
    "\n",
    "def rungeKutta(T, deltaT, Ca, Cb, Cc, alpha, beta, gama): \n",
    "\n",
    "    while(T<=Tmax):\n",
    "\n",
    "        print(\"\\nITERAÇÃO DO TEMPO {}\".format(T))\n",
    "\n",
    "        k1[0] = derivada_Ca(Ca, Cb, Cc, alpha)\n",
    "        k1[1] = derivada_Cb(Ca, Cb, Cc, beta)\n",
    "        k1[2] = derivada_Cc(Ca, Cb, Cc, gama)\n",
    "        print(\"k1_Ca = {}\\nk1_Cb = {}\\nk1_Cc = {}\".format(k1[0], k1[1], k1[2]))\n",
    "\n",
    "        k2[0] = derivada_Ca(Ca+k1[0]*(deltaT/2), Cb+k1[1]*(deltaT/2), Cc+k1[2]*(deltaT/2), alpha)\n",
    "        k2[1] = derivada_Cb(Ca+k1[0]*(deltaT/2), Cb+k1[1]*(deltaT/2), Cc+k1[2]*(deltaT/2), beta)\n",
    "        k2[2] = derivada_Cc(Ca+k1[0]*(deltaT/2), Cb+k1[1]*(deltaT/2), Cc+k1[2]*(deltaT/2), gama)\n",
    "        print(\"\\nk2_Ca = {}\\nk2_Cb = {}\\nk2_Cc = {}\".format(k2[0], k2[1], k2[2]))\n",
    "\n",
    "\n",
    "        k3[0] = derivada_Ca(Ca-(k1[0]*deltaT)+(2*k2[0]*deltaT), Cb-(k1[1]*deltaT)+(2*k2[1]*deltaT), Cc-(k1[2]*deltaT)+(2*k2[2]*deltaT), alpha)\n",
    "        k3[1] = derivada_Cb(Ca-(k1[0]*deltaT)+(2*k2[0]*deltaT), Cb-(k1[1]*deltaT)+(2*k2[1]*deltaT), Cc-(k1[2]*deltaT)+(2*k2[2]*deltaT), beta)\n",
    "        k3[2] = derivada_Cc(Ca-(k1[0]*deltaT)+(2*k2[0]*deltaT), Cb-(k1[1]*deltaT)+(2*k2[1]*deltaT), Cc-(k1[2]*deltaT)+(2*k2[2]*deltaT), gama)\n",
    "        print(\"\\nk3_Ca = {}\\nk3_Cb = {}\\nk3_Cc = {}\".format(k3[0], k3[1], k3[2]))\n",
    "\n",
    "\n",
    "        y[0] = y[0] + (1/6)*(k1[0]+4*k2[0]+k3[0])*deltaT\n",
    "        y[1] = y[1] + (1/6)*(k1[1]+4*k2[1]+k3[1])*deltaT\n",
    "        y[2] = y[2] + (1/6)*(k1[2]+4*k2[2]+k3[2])*deltaT\n",
    "        print(\"\\nCa = {}\\nCb = {}\\nCc = {}\".format(y[0], y[1], y[2]))\n",
    "\n",
    "        Ca = y[0]\n",
    "        Cb = y[1]\n",
    "        Cc = y[2]\n",
    "\n",
    "        T = T+deltaT\n",
    "\n",
    "\n",
    "    return y\n",
    "\n",
    "rungeKutta(T, deltaT, Ca, Cb, Cc, alpha, beta, gama)\n"
   ]
  }
 ],
 "metadata": {
  "kernelspec": {
   "display_name": "Python 3",
   "language": "python",
   "name": "python3"
  },
  "language_info": {
   "codemirror_mode": {
    "name": "ipython",
    "version": 3
   },
   "file_extension": ".py",
   "mimetype": "text/x-python",
   "name": "python",
   "nbconvert_exporter": "python",
   "pygments_lexer": "ipython3",
   "version": "3.11.0"
  },
  "orig_nbformat": 4,
  "vscode": {
   "interpreter": {
    "hash": "801167540cbb55ba35d945cc42145fb282b6ddc0e114fed7a26f8df16ed9f164"
   }
  }
 },
 "nbformat": 4,
 "nbformat_minor": 2
}
